{
  "nbformat": 4,
  "nbformat_minor": 0,
  "metadata": {
    "colab": {
      "provenance": [],
      "toc_visible": true,
      "include_colab_link": true
    },
    "kernelspec": {
      "name": "python3",
      "display_name": "Python 3"
    },
    "language_info": {
      "name": "python"
    }
  },
  "cells": [
    {
      "cell_type": "markdown",
      "metadata": {
        "id": "view-in-github",
        "colab_type": "text"
      },
      "source": [
        "<a href=\"https://colab.research.google.com/github/fb0416/2024-Data-science-/blob/main/%EC%A0%95%ED%9D%AC%20Team_Mission_01.ipynb\" target=\"_parent\"><img src=\"https://colab.research.google.com/assets/colab-badge.svg\" alt=\"Open In Colab\"/></a>"
      ]
    },
    {
      "cell_type": "code",
      "source": [],
      "metadata": {
        "id": "vs2D0fabgdvK"
      },
      "execution_count": null,
      "outputs": []
    },
    {
      "cell_type": "markdown",
      "source": [
        "Team Mission 01"
      ],
      "metadata": {
        "id": "WrglI0Rkggcb"
      }
    },
    {
      "cell_type": "code",
      "execution_count": null,
      "metadata": {
        "colab": {
          "base_uri": "https://localhost:8080/"
        },
        "id": "hkLOp-aNfIba",
        "outputId": "c3f8249b-09ca-4038-f30f-ad5eaac1ba8b"
      },
      "outputs": [
        {
          "output_type": "stream",
          "name": "stdout",
          "text": [
            "['Q2', 'Q3', 'Q4', 'Q5', 'Q8', 'Q9']\n"
          ]
        }
      ],
      "source": [
        "# 응답 설문 문항\n",
        "question = ['Q2', 'Q3', 'Q4', 'Q5', 'Q6_1', 'Q6_2', 'Q6_3', 'Q6_4', 'Q6_5', 'Q6_6',\n",
        "       'Q6_7', 'Q6_8', 'Q6_9', 'Q6_10', 'Q6_11', 'Q6_12', 'Q7_1', 'Q7_2',\n",
        "       'Q7_3', 'Q7_4', 'Q7_5', 'Q7_6', 'Q7_7', 'Q8', 'Q9', 'Q10_1', 'Q10_2',\n",
        "       'Q10_3']\n",
        "\n",
        "answer = []\n",
        "for q in question:\n",
        "  if len(q.split(\"_\")) == 1:\n",
        "    answer.append(q)\n",
        "\n",
        "print(answer)"
      ]
    }
  ]
}