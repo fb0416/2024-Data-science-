{
  "cells": [
    {
      "cell_type": "markdown",
      "metadata": {
        "id": "view-in-github",
        "colab_type": "text"
      },
      "source": [
        "<a href=\"https://colab.research.google.com/github/fb0416/2024-Data-science-/blob/main/%EC%AD%88_1%EC%A3%BC%EC%B0%A81%EB%B2%88%20%EB%AC%B8%EC%A0%9C.ipynb\" target=\"_parent\"><img src=\"https://colab.research.google.com/assets/colab-badge.svg\" alt=\"Open In Colab\"/></a>"
      ]
    },
    {
      "cell_type": "markdown",
      "source": [
        "# 첫번째 퀴즈"
      ],
      "metadata": {
        "id": "RBlLDYkgsOu9"
      }
    },
    {
      "cell_type": "code",
      "source": [
        "question = ['Q2', 'Q3', 'Q4', 'Q5', 'Q6_1', 'Q6_2', 'Q6_3', 'Q6_4', 'Q6_5', 'Q6_6',\n",
        "       'Q6_7', 'Q6_8', 'Q6_9', 'Q6_10', 'Q6_11', 'Q6_12', 'Q7_1', 'Q7_2',\n",
        "       'Q7_3', 'Q7_4', 'Q7_5', 'Q7_6', 'Q7_7', 'Q8', 'Q9', 'Q10_1', 'Q10_2',\n",
        "       'Q10_3']\n",
        "lang=[]\n",
        "for i in question:\n",
        "    #if문으로 문자열이 있는지 확인\n",
        "    qu=\"_\" in i\n",
        "    if qu==False:\n",
        "      #문자열이 있을 경우 True이니 False로 값 받아서 출력\n",
        "            lang.append(i)\n",
        "print(lang)\n"
      ],
      "metadata": {
        "id": "-3WTy39-sU5z"
      },
      "execution_count": null,
      "outputs": []
    }
  ],
  "metadata": {
    "colab": {
      "toc_visible": true,
      "provenance": [],
      "include_colab_link": true
    },
    "kernelspec": {
      "display_name": "Python 3",
      "name": "python3"
    }
  },
  "nbformat": 4,
  "nbformat_minor": 0
}